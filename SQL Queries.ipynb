{
 "cells": [
  {
   "cell_type": "markdown",
   "id": "93d799b7",
   "metadata": {},
   "source": [
    "Spotify Data Query"
   ]
  },
  {
   "cell_type": "code",
   "execution_count": null,
   "id": "774a5ca8",
   "metadata": {},
   "outputs": [],
   "source": [
    "select * from datawarehouse"
   ]
  },
  {
   "cell_type": "markdown",
   "id": "6dc484e9",
   "metadata": {},
   "source": [
    "Top Tracks by Popularity"
   ]
  },
  {
   "cell_type": "code",
   "execution_count": null,
   "id": "ce46c078",
   "metadata": {},
   "outputs": [],
   "source": [
    "SELECT track_name, name, track_popularity\n",
    "FROM datawarehouse\n",
    "ORDER BY track_popularity DESC\n",
    "LIMIT 10;\n"
   ]
  },
  {
   "cell_type": "markdown",
   "id": "96646ba8",
   "metadata": {},
   "source": [
    "Top Genres by Number of Tracks"
   ]
  },
  {
   "cell_type": "code",
   "execution_count": null,
   "id": "c3df4fb3",
   "metadata": {},
   "outputs": [],
   "source": [
    "SELECT genre, COUNT(*) AS num_tracks\n",
    "FROM datawarehouse\n",
    "GROUP BY genre\n",
    "ORDER BY num_tracks DESC\n",
    "LIMIT 5;\n"
   ]
  },
  {
   "cell_type": "markdown",
   "id": "d44c9138",
   "metadata": {},
   "source": [
    "Top Artists by Their Overall Popularity"
   ]
  },
  {
   "cell_type": "code",
   "execution_count": null,
   "id": "27022c11",
   "metadata": {},
   "outputs": [],
   "source": [
    "SELECT name, artist_popularity\n",
    "FROM datawarehouse\n",
    "ORDER BY artist_popularity DESC\n",
    "LIMIT 10;\n"
   ]
  },
  {
   "cell_type": "markdown",
   "id": "722dbb2f",
   "metadata": {},
   "source": [
    "Total Number of Followers for Each Artist"
   ]
  },
  {
   "cell_type": "code",
   "execution_count": null,
   "id": "2a549944",
   "metadata": {},
   "outputs": [],
   "source": [
    "SELECT album_name, name, album_popularity\n",
    "FROM datawarehouse\n",
    "ORDER BY album_popularity DESC\n",
    "LIMIT 10;\n"
   ]
  },
  {
   "cell_type": "markdown",
   "id": "5e4cb5cd",
   "metadata": {},
   "source": [
    "Top Albums by Popularity"
   ]
  },
  {
   "cell_type": "code",
   "execution_count": null,
   "id": "092192bc",
   "metadata": {},
   "outputs": [],
   "source": [
    "SELECT name, SUM(CAST(followers AS bigint)) AS total_followers\n",
    "FROM datawarehouse\n",
    "GROUP BY name;\n"
   ]
  }
 ],
 "metadata": {
  "kernelspec": {
   "display_name": "Python 3 (ipykernel)",
   "language": "python",
   "name": "python3"
  },
  "language_info": {
   "codemirror_mode": {
    "name": "ipython",
    "version": 3
   },
   "file_extension": ".py",
   "mimetype": "text/x-python",
   "name": "python",
   "nbconvert_exporter": "python",
   "pygments_lexer": "ipython3",
   "version": "3.11.5"
  }
 },
 "nbformat": 4,
 "nbformat_minor": 5
}
