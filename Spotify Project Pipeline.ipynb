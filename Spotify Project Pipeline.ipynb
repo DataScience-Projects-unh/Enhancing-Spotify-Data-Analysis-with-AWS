{
 "cells": [
  {
   "cell_type": "code",
   "execution_count": null,
   "id": "949779dc",
   "metadata": {},
   "outputs": [],
   "source": [
    "import sys\n",
    "from awsglue.transforms import *\n",
    "from awsglue.utils import getResolvedOptions\n",
    "from pyspark.context import SparkContext\n",
    "from awsglue.context import GlueContext\n",
    "from awsglue.job import Job\n",
    "\n",
    "args = getResolvedOptions(sys.argv, ['JOB_NAME'])\n",
    "sc = SparkContext()\n",
    "glueContext = GlueContext(sc)\n",
    "spark = glueContext.spark_session\n",
    "job = Job(glueContext)\n",
    "job.init(args['JOB_NAME'], args)\n",
    "\n",
    "# Script generated for node artist\n",
    "artist_node1713840556925 = glueContext.create_dynamic_frame.from_options(format_options={\"quoteChar\": \"\\\"\", \"withHeader\": True, \"separator\": \",\"}, connection_type=\"s3\", format=\"csv\", connection_options={\"paths\": [\"s3://spotify-project-team07/staging/artists.csv\"], \"recurse\": True}, transformation_ctx=\"artist_node1713840556925\")\n",
    "\n",
    "# Script generated for node album\n",
    "album_node1713840559156 = glueContext.create_dynamic_frame.from_options(format_options={\"quoteChar\": \"\\\"\", \"withHeader\": True, \"separator\": \",\"}, connection_type=\"s3\", format=\"csv\", connection_options={\"paths\": [\"s3://spotify-project-team07/staging/albums.csv\"], \"recurse\": True}, transformation_ctx=\"album_node1713840559156\")\n",
    "\n",
    "# Script generated for node track\n",
    "track_node1713840560194 = glueContext.create_dynamic_frame.from_options(format_options={\"quoteChar\": \"\\\"\", \"withHeader\": True, \"separator\": \",\"}, connection_type=\"s3\", format=\"csv\", connection_options={\"paths\": [\"s3://spotify-project-team07/staging/track.csv\"], \"recurse\": True}, transformation_ctx=\"track_node1713840560194\")\n",
    "\n",
    "# Script generated for node album & artist\n",
    "albumartist_node1713840654798 = Join.apply(frame1=album_node1713840559156, frame2=artist_node1713840556925, keys1=[\"artist_id\"], keys2=[\"id\"], transformation_ctx=\"albumartist_node1713840654798\")\n",
    "\n",
    "# Script generated for node Join with tracks\n",
    "Joinwithtracks_node1713840733853 = Join.apply(frame1=track_node1713840560194, frame2=albumartist_node1713840654798, keys1=[\"track_id\"], keys2=[\"track_id\"], transformation_ctx=\"Joinwithtracks_node1713840733853\")\n",
    "\n",
    "# Script generated for node Drop Fields\n",
    "DropFields_node1713840849386 = DropFields.apply(frame=Joinwithtracks_node1713840733853, paths=[\"`.track_id`\", \"id\"], transformation_ctx=\"DropFields_node1713840849386\")\n",
    "\n",
    "# Script generated for node Destination\n",
    "Destination_node1713840879703 = glueContext.write_dynamic_frame.from_options(frame=DropFields_node1713840849386, connection_type=\"s3\", format=\"glueparquet\", connection_options={\"path\": \"s3://spotify-project-team07/datawarehouse/\", \"partitionKeys\": []}, format_options={\"compression\": \"snappy\"}, transformation_ctx=\"Destination_node1713840879703\")\n",
    "\n",
    "job.commit()"
   ]
  }
 ],
 "metadata": {
  "kernelspec": {
   "display_name": "Python 3 (ipykernel)",
   "language": "python",
   "name": "python3"
  },
  "language_info": {
   "codemirror_mode": {
    "name": "ipython",
    "version": 3
   },
   "file_extension": ".py",
   "mimetype": "text/x-python",
   "name": "python",
   "nbconvert_exporter": "python",
   "pygments_lexer": "ipython3",
   "version": "3.11.5"
  }
 },
 "nbformat": 4,
 "nbformat_minor": 5
}
